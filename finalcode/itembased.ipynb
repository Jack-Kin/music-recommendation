{
  "nbformat": 4,
  "nbformat_minor": 0,
  "metadata": {
    "colab": {
      "name": "itembased.ipynb",
      "provenance": [],
      "collapsed_sections": []
    },
    "kernelspec": {
      "name": "python3",
      "display_name": "Python 3"
    },
    "language_info": {
      "name": "python"
    }
  },
  "cells": [
    {
      "cell_type": "code",
      "metadata": {
        "id": "BxRmGB_dE8UV"
      },
      "source": [
        "#-*- coding:utf8 -*-\n",
        "# pySpark实现的基于物品的协同过滤\n",
        "\n",
        "import sys\n",
        "from collections import defaultdict\n",
        "from itertools import combinations\n",
        "import numpy as np\n",
        "import random\n",
        "import csv\n",
        "import pdb\n",
        "from pyspark import SparkContext"
      ],
      "execution_count": null,
      "outputs": []
    },
    {
      "cell_type": "code",
      "metadata": {
        "colab": {
          "base_uri": "https://localhost:8080/"
        },
        "id": "Z3qz6f8TKMZe",
        "outputId": "df9159ad-2029-4c71-9205-1689e04797b8"
      },
      "source": [
        "!pip install pyspark"
      ],
      "execution_count": null,
      "outputs": [
        {
          "output_type": "stream",
          "name": "stdout",
          "text": [
            "Requirement already satisfied: pyspark in /usr/local/lib/python3.7/dist-packages (3.2.0)\n",
            "Requirement already satisfied: py4j==0.10.9.2 in /usr/local/lib/python3.7/dist-packages (from pyspark) (0.10.9.2)\n"
          ]
        }
      ]
    },
    {
      "cell_type": "code",
      "metadata": {
        "id": "ZjhkJhbJDo1c"
      },
      "source": [
        "def parseVector(line):\n",
        "    line = line.split(\"|\")\n",
        "    return line[0],(line[1],float(line[2]))\n",
        "\n",
        "def sampleInteractions(user_id,items_with_rating,n):\n",
        "    '''\n",
        "        如果某个用户打分行为特别多，可以选择适当做点下采样\n",
        "    '''\n",
        "    if len(items_with_rating) > n:\n",
        "        return user_id, random.sample(items_with_rating,n)\n",
        "    else:\n",
        "        return user_id, items_with_rating\n",
        "\n",
        "def findItemPairs(user_id,items_with_rating):\n",
        "    '''\n",
        "        对每个用户的打分item，组对，输出所有可能的组合，但是不在意顺序，C而不是P\n",
        "        (item1,item2) ->  [(item1_rating,item2_rating),\n",
        "                             (item1_rating,item2_rating),\n",
        "                             ...]\n",
        "    '''\n",
        "    for item1,item2 in combinations(items_with_rating,2):\n",
        "        return (item1[0],item2[0]),(item1[1],item2[1])\n",
        "\n",
        "def calcSim(item_pair,rating_pairs):\n",
        "    ''' \n",
        "        对每个item对，根据打分计算余弦距离，并返回共同打分的user个数\n",
        "    '''\n",
        "    sum_xx, sum_xy, sum_yy, sum_x, sum_y, n = (0.0, 0.0, 0.0, 0.0, 0.0, 0)\n",
        "    \n",
        "    for rating_pair in rating_pairs:\n",
        "        sum_xx += np.float(rating_pair[0]) * np.float(rating_pair[0])\n",
        "        sum_yy += np.float(rating_pair[1]) * np.float(rating_pair[1])\n",
        "        sum_xy += np.float(rating_pair[0]) * np.float(rating_pair[1])\n",
        "        # sum_y += rt[1]\n",
        "        # sum_x += rt[0]\n",
        "        n += 1\n",
        "\n",
        "    cos_sim = cosine(sum_xy,np.sqrt(sum_xx),np.sqrt(sum_yy))\n",
        "    return item_pair, (cos_sim,n)\n",
        "\n",
        "def cosine(dot_product,rating_norm_squared,rating2_norm_squared):\n",
        "    '''\n",
        "    The cosine between two vectors A, B\n",
        "       dotProduct(A, B) / (norm(A) * norm(B))\n",
        "    '''\n",
        "    numerator = dot_product\n",
        "    denominator = rating_norm_squared * rating2_norm_squared\n",
        "    return (numerator / (float(denominator))) if denominator else 0.0\n",
        "\n",
        "def correlation(size, dot_product, rating_sum, \\\n",
        "            rating2sum, rating_norm_squared, rating2_norm_squared):\n",
        "\n",
        "    numerator = size * dot_product - rating_sum * rating2sum\n",
        "    denominator = sqrt(size * rating_norm_squared - rating_sum * rating_sum) * \\\n",
        "                    sqrt(size * rating2_norm_squared - rating2sum * rating2sum)\n",
        "\n",
        "    return (numerator / (float(denominator))) if denominator else 0.0\n",
        "\n",
        "def keyOnFirstItem(item_pair,item_sim_data):\n",
        "\n",
        "    (item1_id,item2_id) = item_pair\n",
        "    return item1_id,(item2_id,item_sim_data)\n",
        "\n",
        "def nearestNeighbors(item_id,items_and_sims,n):\n",
        "    '''\n",
        "        排序选出相似度最高的N个邻居\n",
        "    '''\n",
        "    items_and_sims.sort(key=lambda x: x[1][0],reverse=True)\n",
        "    return item_id, items_and_sims[:n]\n",
        "\n",
        "def topNRecommendations(user_id,items_with_rating,item_sims,n):\n",
        "    totals = defaultdict(int)\n",
        "    sim_sums = defaultdict(int)\n",
        "\n",
        "    for (item,rating) in items_with_rating:\n",
        "\n",
        "        # 遍历item的邻居\n",
        "        nearest_neighbors = item_sims.get(item,None)\n",
        "\n",
        "        if nearest_neighbors:\n",
        "            for (neighbor,(sim,count)) in nearest_neighbors:\n",
        "                if neighbor != item:\n",
        "                    # 更新推荐度和相近度\n",
        "                    totals[neighbor] += sim * rating\n",
        "                    sim_sums[neighbor] += sim\n",
        "\n",
        "    # 归一化\n",
        "    scored_items = [(total/sim_sums[item],item) for item,total in totals.items()]\n",
        "\n",
        "    # 按照推荐度降序排列\n",
        "    scored_items.sort(reverse=True)\n",
        "\n",
        "    ranked_items = [x[1] for x in scored_items]\n",
        "\n",
        "    return user_id,ranked_items[:n]\n"
      ],
      "execution_count": null,
      "outputs": []
    },
    {
      "cell_type": "code",
      "metadata": {
        "colab": {
          "base_uri": "https://localhost:8080/"
        },
        "id": "gl9Ahij02Trz",
        "outputId": "7fdc1fdf-0bc1-421a-80f5-453fe2f96369"
      },
      "source": [
        "import os\n",
        "from google.colab import drive\n",
        "drive.mount('/content/drive')\n",
        "\n",
        "path = \"/content/drive/My Drive\"\n"
      ],
      "execution_count": null,
      "outputs": [
        {
          "output_type": "stream",
          "name": "stdout",
          "text": [
            "Drive already mounted at /content/drive; to attempt to forcibly remount, call drive.mount(\"/content/drive\", force_remount=True).\n"
          ]
        }
      ]
    },
    {
      "cell_type": "code",
      "metadata": {
        "id": "5jzRghO43Qsx"
      },
      "source": [
        "from pyspark import SparkContext\n",
        "sc =SparkContext()"
      ],
      "execution_count": null,
      "outputs": []
    },
    {
      "cell_type": "markdown",
      "metadata": {
        "id": "9gBUIS7oXjut"
      },
      "source": [
        ""
      ]
    },
    {
      "cell_type": "code",
      "metadata": {
        "id": "Hiu4Yqm9FEnQ"
      },
      "source": [
        "    path='/content/drive/MyDrive/liked_4.txt'\n",
        "    lines = sc.textFile(path)\n",
        "\n",
        "\n",
        "\n",
        "    ''' \n",
        "        处理数据，获得稀疏user-item矩阵，一个user对应多个item，每个item一个rating:\n",
        "        user_id -> [(item_id_1, rating_1),\n",
        "                   [(item_id_2, rating_2),\n",
        "                    ...]\n",
        "        并下采样rating超过500的user\n",
        "    '''\n",
        "    user_item_pairs = lines.map(parseVector).groupByKey().map(lambda p: sampleInteractions(p[0],p[1],500)).cache()\n",
        "\n",
        "\n",
        "\n",
        "    pairwise_items = user_item_pairs.filter(\n",
        "      lambda p: len(p[1]) > 1).map(\n",
        "      lambda p: findItemPairs(p[0],p[1])).groupByKey()\n",
        "\n",
        "    '''\n",
        "        计算余弦相似度，找到最近的N个邻居:\n",
        "        (item1,item2) ->  (similarity,co_raters_count)\n",
        "    '''\n",
        "\n",
        "    item_sims = pairwise_items.map(\n",
        "        lambda p: calcSim(p[0],list(p[1]))).map(\n",
        "        lambda p: keyOnFirstItem(p[0],list(p[1]))).groupByKey().map(\n",
        "        lambda p: nearestNeighbors(p[0],list(p[1]),3)).collect()\n",
        "\n",
        "\n",
        "    '''\n",
        "        item1,[(similarity，itemi),...,(similarity,itemj)]\n",
        "    '''\n",
        "\n",
        "    item_sim_dict = {}\n",
        "    for (item,data) in item_sims: \n",
        "        item_sim_dict[item] = data\n",
        "    isb = sc.broadcast(item_sim_dict)\n",
        "    '''\n",
        "        计算最佳的N个推荐结果\n",
        "        user_id -> [item1,item2,item3,...]\n",
        "    '''\n",
        "    user_item_recs = user_item_pairs.map(lambda p: topNRecommendations(p[0],p[1],isb.value,500)).collect()\n",
        "    "
      ],
      "execution_count": null,
      "outputs": []
    },
    {
      "cell_type": "code",
      "metadata": {
        "colab": {
          "base_uri": "https://localhost:8080/"
        },
        "id": "u2qWut2k6xyY",
        "outputId": "8e71bdf2-e7ce-4e4a-94a2-f96e3fe99bd7"
      },
      "source": [
        "\n",
        "print(user_item_recs)"
      ],
      "execution_count": null,
      "outputs": [
        {
          "output_type": "stream",
          "name": "stdout",
          "text": [
            "[('1', ['Blue Banisters']), ('4', ['Cold Heart - PNAU Remix']), ('3', ['If You Lie Down With Me']), ('2', ['STAY (with Justin Bieber)'])]\n"
          ]
        }
      ]
    }
  ]
}